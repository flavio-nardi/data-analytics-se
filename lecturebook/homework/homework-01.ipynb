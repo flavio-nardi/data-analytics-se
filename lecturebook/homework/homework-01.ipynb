{
 "cells": [
  {
   "cell_type": "markdown",
   "metadata": {},
   "source": [
    "# Homework 1\n",
    "\n",
    "## References\n",
    "\n",
    "+ Lectures 1-3 (inclusive).\n",
    "\n",
    "## Instructions\n",
    "\n",
    "+ Type your name and email in the \"Student details\" section below.\n",
    "+ Develop the code and generate the figures you need to solve the problems using this notebook.\n",
    "+ For the answers that require a mathematical proof or derivation you should type them using latex. If you have never written latex before and you find it exceedingly difficult, we will likely accept handwritten solutions.\n",
    "+ The total homework points are 100. Please note that the problems are not weighed equally."
   ]
  },
  {
   "cell_type": "code",
   "execution_count": 1,
   "metadata": {
    "tags": [
     "hide-input"
    ]
   },
   "outputs": [],
   "source": [
    "import numpy as np\n",
    "import matplotlib.pyplot as plt\n",
    "%matplotlib inline\n",
    "import seaborn as sns\n",
    "import scipy.stats as st\n",
    "sns.set(rc={\"figure.dpi\":100, \"savefig.dpi\":300})\n",
    "sns.set_context(\"notebook\")\n",
    "sns.set_style(\"ticks\")"
   ]
  },
  {
   "cell_type": "markdown",
   "metadata": {},
   "source": [
    "## Student details\n",
    "\n",
    "+ **First Name:** Flavio\n",
    "+ **Last Name:** Nardi\n",
    "+ **Email:** fnardi@purdue.edu"
   ]
  },
  {
   "cell_type": "markdown",
   "metadata": {},
   "source": [
    "## Problem 1\n",
    "\n",
    "Disclaimer: This example is a modified version of the one found in a 2013 lecture on Bayesian Scientific Computing taught by Prof. Nicholas Zabaras.\n",
    "I am not sure where the original problem is coming from.\n",
    "\n",
    "We are tasked with assessing the usefulness of a tuberculosis test.\n",
    "The prior information I is:\n",
    "\n",
    "> The percentage of the population infected by tuberculosis is 0.4\\%.\n",
    "We have run several experiments and determined that:\n",
    "+ If a tested patient has the disease, then 80\\% of the time the test comes out positive.\n",
    "+ If a tested patient does not have the disease, then 90\\% of the time the test comes out negative.\n",
    "\n",
    "To facilitate your analysis, consider the following logical sentences concerning a patient:\n",
    "\n",
    "> A: The patient is tested and the test is positive.\n",
    "\n",
    "> B: The patient has tuberculosis.\n",
    "\n",
    "A. Find the probability that the patient has tuberculosis (before looking at the result of the test), i.e., $p(B|I)$. This is known as the base rate or the prior probability.<br>\n",
    "**Answer:**\n",
    "<br>$p(B|I) = 0.004$<br><br>"
   ]
  },
  {
   "cell_type": "markdown",
   "metadata": {},
   "source": [
    "B. Find the probability that the test is positive given that the patient has tuberculosis, i.e., $p(A|B,I)$.<br>\n",
    "**Answer:**\n",
    "<br>$p(A|B,I)=0.8$<br><br>"
   ]
  },
  {
   "cell_type": "markdown",
   "metadata": {},
   "source": [
    "C. Find the probability that the test is positive given that the patient does not have tuberculosis, i.e., $p(A|\\neg B, I)$.<br>\n",
    "**Answer:**\n",
    "<br>\n",
    "Using the statement above\n",
    "+ If a tested patient does not have the disease, then 90\\% of the time the test comes out negative.\n",
    "\n",
    "we have $p(\\neg A| \\neg B, I) = 0.9$. Then\n",
    "<br><br>\n",
    "$p(A|\\neg B, I) = 1-p(\\neg A|\\neg B, I) =1-0.9=0.1$<br>"
   ]
  },
  {
   "cell_type": "markdown",
   "metadata": {},
   "source": [
    "D. Find the probability that a patient that tested positive has tuberculosis, i.e., $p(B|A,I)$.<br>\n",
    "**Answer:**\n",
    "<br>\n",
    "$p(B|A,I)=\\frac{p(B,A|I)}{p(A|I)}=\\frac{p(A|B,I)p(B|I)}{p(A|I)}$\n",
    "<br> where\n",
    "$p(A|I)=p(A,B|I)+p(A,\\neg B|I)=p(A|B,I)p(B|I)+p(A|\\neg B,I)p(\\neg B|I)$. From $p(B|I) = 0.004$ we get $p(\\neg B|I) = 1-p(B|I)=0.996$.\n",
    "<br>\n",
    "Hence\n",
    "<br>\n",
    "$p(B|A,I)=\\frac{p(A|B,I)p(B|I)}{p(A|B, I)p(B|I)+p(A|\\neg B, I)p(\\neg B|I)}=\\frac{(0.8)(0.004)}{(0.8)(0.004)+(0.1)(0.996)}=\\frac{0.0032}{0.0032+0.0996}=0.0311$<br>"
   ]
  },
  {
   "cell_type": "markdown",
   "metadata": {},
   "source": [
    "E. Find the probability that a patient that tested negative has tuberculosis, i.e., $p(B|\\neg A, I)$. Does the test change our prior state of knowledge about about the patient? Is the test useful?<br>\n",
    "**Answer:**\n",
    "<br>\n",
    "$p(B|\\neg A, I)=\\frac{p(B,\\neg A|I)}{p(\\neg A|I)}$. Again, let's apply the product rule and the sum rule:\n",
    "<br>\n",
    "$p(B,\\neg A|I)=p(\\neg A|B,I)p(B,I)$\n",
    "<br>\n",
    "and\n",
    "<br>\n",
    "$p(\\neg A|I)=p(\\neg A,B|I)+p(\\neg A,\\neg B|I)=p(\\neg A|B,I)p(B|I)+p(\\neg A|\\neg B,I)p(\\neg B|I)$.\n",
    "<br>\n",
    "Putting it all together:\n",
    "<br>\n",
    "$p(B|\\neg A, I)=\\frac{p(\\neg A|B,I)p(B|I)}{p(\\neg A|B,I)p(B|I)+p(\\neg A|\\neg B,I)p(\\neg B|I)}$.\n",
    "<br>\n",
    "Since $p(\\neg A|B,I) = 1-p(A|B,I)=0.2$\n",
    "<br>\n",
    "$p(B|\\neg A, I)=\\frac{(0.2)(0.004)}{(0.2)(0.004)+(0.9)(0.996)}=\\frac{0.0008}{0.0008+0.8964}=0.0008917$.\n",
    "<br>\n",
    "The prior state of knowledge about the patient is that $p(B|I)=0.004$. After taking the test and obtaining a negative result, $p(B|\\neg A, I)=0.0008917$, which is about $4.5$ times smaller than the base rate. So I would say that the test does change our prior state of knowledge about the patient's state of health."
   ]
  },
  {
   "cell_type": "markdown",
   "metadata": {},
   "source": [
    "F. What would a good test look like? Find values for \n",
    "\n",
    "$$\n",
    "p(A|B,I)= p(\\text{test is positive} |\\text{has tuberculosis},I),\n",
    "$$\n",
    "\n",
    "and\n",
    "\n",
    "$$\n",
    "p(A| \\neg B, I) = p(\\text{test is positive}|\\text{does not have tuberculosis}, I),\n",
    "$$\n",
    "\n",
    "so that\n",
    "\n",
    "$$\n",
    "p(B|A, I) = p(\\text{has tuberculosis}|\\text{test is positive}, I) = 0.99.\n",
    "$$\n",
    "\n",
    "There are more than one solutions. How would you pick a good one? Thinking in this way can help you set goals if you work in R\\&D. If you have time, try to figure out whether or not there exists such an accurate test for tuberculosis<br>\n",
    "**Answer:**\n",
    "<br>\n",
    "Start by using the product rule:\n",
    "<br>\n",
    "$p(B|A, I) = \\frac{p(B,A|I)}{p(A|I)}$.\n",
    "<br>\n",
    "The numerator can be rewritten as\n",
    "<br>\n",
    "$p(B,A|I)=p(A|B,I)p(B|I)$,\n",
    "<br>\n",
    "and the denominator:\n",
    "<br>\n",
    "$p(A|I)=p(A,B|I)+p(A,\\neg B|I)=p(A|B,I)p(B|I)+p(A|\\neg B,I)p(\\neg B|I)$.\n",
    "<br>\n",
    "Putting it all together:\n",
    "<br>\n",
    "$p(B|A, I) = 0.99 = \\frac{p(A|B,I)p(B|I)}{p(A|B,I)p(B|I)+p(A|\\neg B,I)p(\\neg B|I)}$.\n",
    "<br>\n",
    "<br>\n",
    "Rearrange:\n",
    "<br>\n",
    "$0.99 p(A|\\neg B,I)p(\\neg B|I) = 0.01 p(A|B,I)p(B|I)$\n",
    "<br>\n",
    "<br>\n",
    "$p(A|\\neg B,I) = \\frac{p(A|B,I)p(B|I)}{99 p(\\neg B|I)}=\\frac{0.004 p(A|B,I)}{99(0.996)} = \\frac{0.004 p(A|B,I)}{98.604}$\n",
    "<br>\n",
    "<br>\n",
    "It looks like even if I pick $p(A|B,I)=0.8$ (as given in the problem), $p(A|\\neg B,I)$ will be very small due to the ratio $\\frac{0.004}{98.604}$ that multiplies $p(A|B,I)=0.8$. This is due to the assumption that the test satisfies $p(B|A, I)=0.99$, which makes the test very accurate."
   ]
  },
  {
   "cell_type": "markdown",
   "metadata": {},
   "source": [
    "## Problem 2 - Practice with discrete random variables\n",
    "\n",
    "Consider the Categorical random variable:\n",
    "\n",
    "$$\n",
    "X \\sim \\operatorname{Categorical}(0.3, 0.1, 0.2, 0.4),\n",
    "$$\n",
    "\n",
    "taking values in $\\{0,1,2,3\\}$. Find the following (you may use ``scipy.stats.rv_discrete`` or do it by hand):"
   ]
  },
  {
   "cell_type": "markdown",
   "metadata": {},
   "source": [
    "A. The expectation $\\mathbb{E}[X]$.\n",
    "\n",
    "**Answer:**\n",
    "<br><br>\n",
    "$\\mathbb{E}[X] = (0.3)(0)+(0.1)(1)+(0.2)(2)+(0.4)(3)=0.1+0.4+1.2=1.7$"
   ]
  },
  {
   "cell_type": "code",
   "execution_count": 2,
   "metadata": {},
   "outputs": [
    {
     "name": "stdout",
     "output_type": "stream",
     "text": [
      "E[X] = 1.70\n"
     ]
    }
   ],
   "source": [
    "# You can also answer with code here:\n",
    "\n",
    "# Define the probabilities:\n",
    "ps = [0.3, 0.1, 0.2, 0.4] \n",
    "# And here are the corresponding values\n",
    "xs = np.array([0, 1, 2, 3])\n",
    "# Here is how you can define a categorical rv:\n",
    "X = st.rv_discrete(name=\"Custom Categorical\", values=(xs, ps))\n",
    "print(f\"E[X] = {X.expect():.2f}\")"
   ]
  },
  {
   "cell_type": "markdown",
   "metadata": {},
   "source": [
    "B. The variance $\\mathbb{V}[X]$.\n",
    "\n",
    "**Answer:**\n",
    "<br>\n",
    "$\\mathbb{V}[X] = \\mathbb{E}[X^2] - \\mathbb{E}[X]^2$\n",
    "Plugging in the values:\n",
    "$\\mathbb{E}[X^2] = (0.3)(0^2)+(0.1)(1^2)+(0.2)(2^2)+(0.4)(3^2)=0.1+0.8+3.6=4.5$\n",
    "Hence\n",
    "$\\mathbb{V}[X] = \\mathbb{E}[X^2] - \\mathbb{E}[X]^2 = 4.5 - 2.89=1.61$"
   ]
  },
  {
   "cell_type": "code",
   "execution_count": 3,
   "metadata": {},
   "outputs": [
    {
     "name": "stdout",
     "output_type": "stream",
     "text": [
      "V[X] = 1.61\n",
      "V[X] = 1.61\n"
     ]
    }
   ],
   "source": [
    "# Verify using scipy stats var method and by calculation:\n",
    "print(f\"V[X] = {X.var():.2f}\")\n",
    "V_f = np.sum((xs ** 2) * X.pmf(xs)) - np.sum(xs * X.pmf(xs)) ** 2\n",
    "print(f\"V[X] = {V_f:.2f}\")"
   ]
  },
  {
   "cell_type": "markdown",
   "metadata": {},
   "source": [
    "C. Plot the probability mass function of $X$."
   ]
  },
  {
   "cell_type": "code",
   "execution_count": 4,
   "metadata": {},
   "outputs": [
    {
     "data": {
      "image/png": "[encoded data removed]",
      "text/plain": [
       "<Figure size 600x400 with 1 Axes>"
      ]
     },
     "metadata": {},
     "output_type": "display_data"
    }
   ],
   "source": [
    "# Your code here. Hint: use a bar plot\n",
    "fig, ax = plt.subplots()\n",
    "ax.bar(xs, X.pmf(xs))\n",
    "ax.set_xlabel(\"$x$\")\n",
    "ax.set_ylabel(\"$p(x)$\");"
   ]
  },
  {
   "cell_type": "markdown",
   "metadata": {},
   "source": [
    "D. Find the probability that $X$ is in $\\{0, 2\\}$.\n",
    "\n",
    "**Answer:**\n",
    "<br>\n",
    "$p(X \\in \\{0, 2\\}) = p(X=0 \\: \\mathrm{or} \\: X=2) = p(X=0) + p(X=2) = 0.3 + 0.2 = 0.5$\n",
    "<br>"
   ]
  },
  {
   "cell_type": "code",
   "execution_count": 5,
   "metadata": {},
   "outputs": [
    {
     "name": "stdout",
     "output_type": "stream",
     "text": [
      "p[X=0 or X=2] = 0.50\n"
     ]
    }
   ],
   "source": [
    "# You can also answer with code here:\n",
    "print(f\"p[X=0 or X=2] = {X.pmf(0)+X.pmf(2):.2f}\")\n",
    "#categorical_rv.cdf(2)"
   ]
  },
  {
   "cell_type": "markdown",
   "metadata": {},
   "source": [
    "E. Find $\\mathbb{E}[4X + 3]$.\n",
    "\n",
    "**Answer:**\n",
    "<br>\n",
    "$\\mathbb{E}[4X + 3] = 4 \\mathbb{E}[X] + 3= 4(1.7)+3=9.8$\n",
    "<br>"
   ]
  },
  {
   "cell_type": "code",
   "execution_count": 6,
   "metadata": {},
   "outputs": [
    {
     "name": "stdout",
     "output_type": "stream",
     "text": [
      "E[4X + 3] = 9.80\n"
     ]
    }
   ],
   "source": [
    "# You can also answer with code here:\n",
    "E_f=4*X.expect()+3\n",
    "print(f\"E[4X + 3] = {E_f:.2f}\")"
   ]
  },
  {
   "cell_type": "markdown",
   "metadata": {},
   "source": [
    "F. Find $\\mathbb{V}[4X+3]$.\n",
    "\n",
    "**Answer:**\n",
    "<br>$\\mathbb{V}[4X+3]= 16 \\mathbb{V}[X] = 16(1.61)=25.76$<br>"
   ]
  },
  {
   "cell_type": "code",
   "execution_count": 7,
   "metadata": {},
   "outputs": [
    {
     "name": "stdout",
     "output_type": "stream",
     "text": [
      "V[4X+3] = 25.76\n"
     ]
    }
   ],
   "source": [
    "# You can also answer with code here:\n",
    "V_f = np.sum(((4 * xs + 3) ** 2) * X.pmf(xs)) - np.sum((4 * xs + 3) * X.pmf(xs)) ** 2\n",
    "print(f\"V[4X+3] = {V_f:.2f}\")"
   ]
  },
  {
   "cell_type": "markdown",
   "metadata": {},
   "source": [
    "## Problem 3 - Predicting the probability of major earthquakes in Southern California\n",
    "\n",
    "The [San Andreas fault](https://en.wikipedia.org/wiki/San_Andreas_Fault) extends through California forming the boundary between the Pacific and the North American tectonic plates.\n",
    "It has caused some of the major earthquakes on Earth.\n",
    "We are going to focus on Southern California and we would like to assess the probability of a major earthquake, defined as an earthquake of magnitude 6.5 or greater, during the next ten years.\n",
    "\n",
    "A. The first thing we are going to do is go over a [database of past earthquakes](https://scedc.caltech.edu/significant/chron-index.html) that have occured in Southern California and collect the relevant data. We are going to start at 1900 because data before that time may are unreliable.\n",
    "Go over each decade and count the occurence of a major earthquake (i.e., count the number of organge and red colors in each decade). We have done this for you."
   ]
  },
  {
   "cell_type": "code",
   "execution_count": 19,
   "metadata": {
    "scrolled": true
   },
   "outputs": [
    {
     "data": {
      "image/png": "[encoded data removed]",
      "text/plain": [
       "<Figure size 900x600 with 1 Axes>"
      ]
     },
     "metadata": {},
     "output_type": "display_data"
    }
   ],
   "source": [
    "eq_data = np.array([\n",
    "    0, # 1900-1909\n",
    "    1, # 1910-1919\n",
    "    2, # 1920-1929\n",
    "    0, # 1930-1939\n",
    "    3, # 1940-1949\n",
    "    2, # 1950-1959\n",
    "    1, # 1960-1969\n",
    "    2, # 1970-1979\n",
    "    1, # 1980-1989\n",
    "    4, # 1990-1999\n",
    "    0, # 2000-2009\n",
    "    2 # 2010-2019 \n",
    "])\n",
    "fig, ax = plt.subplots(dpi=150)\n",
    "ax.bar(np.linspace(1900, 2019, eq_data.shape[0]), eq_data, width=10)\n",
    "ax.set_xlabel('Decade')\n",
    "ax.set_ylabel('# of major earthquakes in Southern CA');"
   ]
  },
  {
   "cell_type": "markdown",
   "metadata": {},
   "source": [
    "B. The [Poisson distribution](https://en.wikipedia.org/wiki/Poisson_distribution) is a discrete distribution with values $\\{0,1,2,\\dots\\}$ which is commonly used to model the number of events occuring in a certain time period.\n",
    "It is the right choice when these events are happening independently and the probability of any event happening over a small period of time is constant.\n",
    "Let's use the Poisson to model the number of earthquakes $X$ occuring in a decade.\n",
    "We write:\n",
    "\n",
    "$$\n",
    "X \\sim \\operatorname{Poisson}(r),\n",
    "$$\n",
    "\n",
    "where $r$ is the *rate parameter* of Poisson.\n",
    "The rate is the number of events per time period.\n",
    "Here, $r$ is the number of earthquakes per decade.\n",
    "Using the data above, we can set the rate as the empirical average of the observed number of earthquakes per decade:"
   ]
  },
  {
   "cell_type": "code",
   "execution_count": 9,
   "metadata": {},
   "outputs": [
    {
     "name": "stdout",
     "output_type": "stream",
     "text": [
      "r = 1.50 major earthquakes per decade\n"
     ]
    }
   ],
   "source": [
    "r = np.mean(eq_data)\n",
    "print('r = {0:1.2f} major earthquakes per decade'.format(r))"
   ]
  },
  {
   "cell_type": "markdown",
   "metadata": {},
   "source": [
    "Strictly speaking, **this is not how you should be calibrating models!!!**\n",
    "We will learn about the **right** way (which uses Bayes' rule) in the subsequent lectures.\n",
    "But it will do for now as the answer you would get using the **right** way is, for this problem, almost the same.\n",
    "Let's define a Poisson distribution using ``scipy.stats.poisson`` (see documentation [here](https://docs.scipy.org/doc/scipy/reference/generated/scipy.stats.poisson.html)):"
   ]
  },
  {
   "cell_type": "code",
   "execution_count": 16,
   "metadata": {},
   "outputs": [],
   "source": [
    "from scipy.stats import poisson\n",
    "X = poisson(r)"
   ]
  },
  {
   "cell_type": "markdown",
   "metadata": {},
   "source": [
    "A. Plot the probability mass function of ``X``."
   ]
  },
  {
   "cell_type": "code",
   "execution_count": 17,
   "metadata": {},
   "outputs": [
    {
     "data": {
      "image/png": "[encoded data removed]",
      "text/plain": [
       "<Figure size 900x600 with 1 Axes>"
      ]
     },
     "metadata": {},
     "output_type": "display_data"
    }
   ],
   "source": [
    "# Your code here\n",
    "ks = range(10)\n",
    "fig, ax = plt.subplots(dpi=150)\n",
    "ax.bar(ks, X.pmf(ks))\n",
    "ax.set_xlabel('Number of major earthquakes in next 10 years')\n",
    "ax.set_ylabel('Probability of occurance');"
   ]
  },
  {
   "cell_type": "markdown",
   "metadata": {},
   "source": [
    "B. What is the probability that at least one major earthquake will occur during the next decade?<br>\n",
    "**Answer:**\n",
    "<br>$p(X \\ge 1) = 1 - p(X<1) = 1-p(X=0)$<br>\n",
    "To compute this expression I use the code snippet below."
   ]
  },
  {
   "cell_type": "code",
   "execution_count": 12,
   "metadata": {},
   "outputs": [
    {
     "name": "stdout",
     "output_type": "stream",
     "text": [
      "p(X >= 1) = 0.78\n"
     ]
    }
   ],
   "source": [
    "# You can also answer with code here:\n",
    "print(f\"p(X >= 1) = {1-X.pmf(0):.2f}\")"
   ]
  },
  {
   "cell_type": "markdown",
   "metadata": {},
   "source": [
    "C. What is the probability that at least one major earthquake will occur during the next two decades?\n",
    "Hint: Consider two independent and identical copies of $X$, say $X_1$ and $X_2$.\n",
    "And consider their sum $Y = X_1 + X_2$. Read [this](https://en.wikipedia.org/wiki/Poisson_distribution#Sums_of_Poisson-distributed_random_variables) about the sum of two independent Poisson distributions.\n",
    "<br>\n",
    "**Answer:**\n",
    "<br>\n",
    "From the Wikipedia link:\n",
    "<br><br>\n",
    "If $X_i \\sim Pois(\\lambda_i)$ for $i=1,2$ independent random variables, then $\\sum_{i=1}^2 X_i = X_1+X_2 \\sim Pois(\\sum_{i=1}^2 \\lambda_i)$. Since the two random variables share the the same rate $\\lambda$, we have $X_1+X_2 \\sim Pois(2\\lambda)$.\n",
    "<br><br>\n",
    "In this specific example, $\\lambda=r$, hence, $p(X_1+X_2) \\sim Pois(2r)$, and the result is computed in the snippet below."
   ]
  },
  {
   "cell_type": "code",
   "execution_count": 13,
   "metadata": {},
   "outputs": [
    {
     "name": "stdout",
     "output_type": "stream",
     "text": [
      "p(X >= 1) = 0.95\n"
     ]
    }
   ],
   "source": [
    "# You can also answer with code here:\n",
    "X = poisson(2*r)\n",
    "print(f\"p(X >= 1) = {1-X.pmf(0):.2f}\")"
   ]
  },
  {
   "cell_type": "markdown",
   "metadata": {},
   "source": [
    "D. What is the probability that at least one major earthquake will occur during the next five decades?<br>\n",
    "**Answer:**\n",
    "<br> Following the same reasoning presented in the previous question,\n",
    "<br>\n",
    "$X_1+X_2+X_3+X_4+X_5 \\sim Pois(5 \\lambda)$."
   ]
  },
  {
   "cell_type": "code",
   "execution_count": 14,
   "metadata": {},
   "outputs": [
    {
     "name": "stdout",
     "output_type": "stream",
     "text": [
      "p(X >= 1) = 1.00\n"
     ]
    }
   ],
   "source": [
    "# You can also answer with code here:\n",
    "X = poisson(5*r)\n",
    "print(f\"p(X >= 1) = {1-X.pmf(0):.2f}\")"
   ]
  }
 ],
 "metadata": {
  "celltoolbar": "Tags",
  "kernelspec": {
   "display_name": "Python 3 (ipykernel)",
   "language": "python",
   "name": "python3"
  },
  "language_info": {
   "codemirror_mode": {
    "name": "ipython",
    "version": 3
   },
   "file_extension": ".py",
   "mimetype": "text/x-python",
   "name": "python",
   "nbconvert_exporter": "python",
   "pygments_lexer": "ipython3",
   "version": "3.9.12"
  }
 },
 "nbformat": 4,
 "nbformat_minor": 4
}
